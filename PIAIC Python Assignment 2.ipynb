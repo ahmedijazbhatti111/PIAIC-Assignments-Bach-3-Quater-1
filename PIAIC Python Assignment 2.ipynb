{
 "cells": [
  {
   "cell_type": "markdown",
   "metadata": {},
   "source": [
    "# Q#1\n",
    "# Write a program to solve a classic ancient Chinese puzzle:\n",
    "We count 35 heads and 94 legs among the chickens and rabbits in a\n",
    "farm. How many rabbits and how many chickens do we have?"
   ]
  },
  {
   "cell_type": "code",
   "execution_count": 5,
   "metadata": {},
   "outputs": [
    {
     "name": "stdout",
     "output_type": "stream",
     "text": [
      "Enter total number of heads35\n",
      "Enter total number of legs: 94\n",
      "Total no of chicken and rabbit is: (23, 12)\n"
     ]
    }
   ],
   "source": [
    "head = int(input(\"Enter total number of heads\"))\n",
    "leg = int(input(\"Enter total number of legs: \"))\n",
    "\n",
    "def solve_chinese_puzzle(heads,no_of_legs):\n",
    "    no_sloution = \"Nill\"\n",
    "    for chicken in range(heads+1):\n",
    "        rabbit = heads - chicken\n",
    "        if (chicken * 2) + (rabbit * 4) == no_of_legs:\n",
    "            return chicken,rabbit\n",
    "    return no_sloution,no_sloution\n",
    "print(\"Total no of chicken and rabbit is: \" + str(solve_chinese_puzzle(head,leg)))"
   ]
  },
  {
   "cell_type": "markdown",
   "metadata": {},
   "source": [
    "# Q#2\n",
    "Please write a program which accepts a string from console and print\n",
    "the characters that have even indexes."
   ]
  },
  {
   "cell_type": "code",
   "execution_count": 7,
   "metadata": {},
   "outputs": [
    {
     "name": "stdout",
     "output_type": "stream",
     "text": [
      "Enter text: H1e2l3l4o5w6o7r8l9d\n",
      "Helloworld"
     ]
    }
   ],
   "source": [
    "text = input(\"Enter text: \")\n",
    "for i in range(len(text)):\n",
    "    if i%2 == 0:\n",
    "        print(text[i], end = '')"
   ]
  },
  {
   "cell_type": "code",
   "execution_count": 8,
   "metadata": {},
   "outputs": [
    {
     "name": "stdout",
     "output_type": "stream",
     "text": [
      "Enter text: H1e2l3l4o5w6o7r8l9d\n",
      "Helloworld\n"
     ]
    }
   ],
   "source": [
    "text2 = input(\"Enter text: \")\n",
    "print(text[::2])"
   ]
  },
  {
   "cell_type": "markdown",
   "metadata": {},
   "source": [
    "# Q#3\n",
    "Please write a program which accepts a string from console and print\n",
    "it in reverse order."
   ]
  },
  {
   "cell_type": "code",
   "execution_count": 10,
   "metadata": {},
   "outputs": [
    {
     "name": "stdout",
     "output_type": "stream",
     "text": [
      "Enter text: rise to vote sir\n",
      "ris etov ot esir\n"
     ]
    }
   ],
   "source": [
    "text3 = input(\"Enter text: \")\n",
    "print(text3[::-1])"
   ]
  },
  {
   "cell_type": "markdown",
   "metadata": {},
   "source": [
    "# Q#4\n",
    "Please write a program which count and print the numbers of each\n",
    "character in a string input by console."
   ]
  },
  {
   "cell_type": "code",
   "execution_count": 14,
   "metadata": {},
   "outputs": [
    {
     "name": "stdout",
     "output_type": "stream",
     "text": [
      "Enter text: abcdefgabcd\n",
      "a 2\n",
      "b 2\n",
      "c 2\n",
      "d 2\n",
      "e 1\n",
      "f 1\n",
      "g 1\n"
     ]
    }
   ],
   "source": [
    "text4 = input(\"Enter text: \")\n",
    "text_count = {}\n",
    "for i in text4:\n",
    "    if i in text_count:\n",
    "        text_count[i] +=1\n",
    "    else:\n",
    "        text_count[i] = 1\n",
    "        \n",
    "for char,count in text_count.items():\n",
    "    print(char + \" \" + str(count))"
   ]
  },
  {
   "cell_type": "markdown",
   "metadata": {},
   "source": [
    "# Q#5\n",
    "Define a class named Shape and its subclass Square. The Square class\n",
    "has an init function which takes a length as argument. Both classes\n",
    "have a area function which can print the area of the shape where\n",
    "Shape's area is 0 by default."
   ]
  },
  {
   "cell_type": "code",
   "execution_count": 24,
   "metadata": {},
   "outputs": [
    {
     "name": "stdout",
     "output_type": "stream",
     "text": [
      "0\n",
      "The area of shape: 25\n"
     ]
    }
   ],
   "source": [
    "class Shape:\n",
    "    def __init__(self):\n",
    "        pass\n",
    "    \n",
    "    def area(self):\n",
    "        print(0)\n",
    "    \n",
    "class Square(Shape):\n",
    "    def __init__(self,length):\n",
    "        self.length = length\n",
    "        super(Square, self).__init__()\n",
    "    \n",
    "    def area(self):\n",
    "        print(\"The area of shape: \" + str(self.length * self.length))\n",
    "\n",
    "obj_shape = Shape()\n",
    "obj_square = Square(5)\n",
    "\n",
    "obj_shape.area()\n",
    "obj_square.area()"
   ]
  },
  {
   "cell_type": "markdown",
   "metadata": {},
   "source": [
    "# Q#6\n",
    "Write a function to compute 5/0 and use try/except to catch the\n",
    "exceptions."
   ]
  },
  {
   "cell_type": "code",
   "execution_count": 25,
   "metadata": {},
   "outputs": [
    {
     "name": "stdout",
     "output_type": "stream",
     "text": [
      "Enter the nomenator: 5\n",
      "Enter denominator: 0\n",
      "Denominator is not zero\n"
     ]
    }
   ],
   "source": [
    "try:\n",
    "    nomenator = int(input(\"Enter the nomenator: \"))\n",
    "    denominator = int(input(\"Enter denominator: \"))\n",
    "    \n",
    "    print(\"The answer of division is: \" + str(nomenator / denominator))\n",
    "\n",
    "except ZeroDivisionError:\n",
    "    print(\"Denominator is not zero\")"
   ]
  },
  {
   "cell_type": "markdown",
   "metadata": {},
   "source": [
    "# Q#7\n",
    "Assuming that we have some email addresses in the\n",
    "\"username@companyname.com\" format, please write program to print the\n",
    "user name of a given email address. Both user names and company\n",
    "names are composed of letters only."
   ]
  },
  {
   "cell_type": "code",
   "execution_count": 48,
   "metadata": {},
   "outputs": [
    {
     "name": "stdout",
     "output_type": "stream",
     "text": [
      "Enter email address: ahsan@gmail.com\n",
      "ahsan\n"
     ]
    }
   ],
   "source": [
    "email_address = input(\"Enter email address: \")\n",
    "index = email_address.index('@')\n",
    "print(email_address[0:index])"
   ]
  },
  {
   "cell_type": "markdown",
   "metadata": {},
   "source": [
    "# Q#8\n",
    "Write a program which accepts a sequence of words separated by\n",
    "whitespace as input to print the words composed of digits only."
   ]
  },
  {
   "cell_type": "code",
   "execution_count": 49,
   "metadata": {},
   "outputs": [],
   "source": [
    "import re"
   ]
  },
  {
   "cell_type": "code",
   "execution_count": 57,
   "metadata": {},
   "outputs": [
    {
     "name": "stdout",
     "output_type": "stream",
     "text": [
      "Enter the text: 2 cats and 3 dogs.\n",
      "['2 ', '3 ']\n"
     ]
    }
   ],
   "source": [
    "text5 = input(\"Enter the text: \")\n",
    "ans = re.findall(r'\\d+ ',text5)\n",
    "print(ans)"
   ]
  },
  {
   "cell_type": "markdown",
   "metadata": {},
   "source": [
    "# Q#9\n",
    "Write a program to compute 1/2+2/3+3/4+...+n/n+1 with a given n\n",
    "input by console (n>0)."
   ]
  },
  {
   "cell_type": "code",
   "execution_count": 60,
   "metadata": {},
   "outputs": [
    {
     "name": "stdout",
     "output_type": "stream",
     "text": [
      "Enter a number greater then zero: 5\n",
      "3.55\n"
     ]
    }
   ],
   "source": [
    "num = int(input(\"Enter a number greater then zero: \"))\n",
    "compute = 0\n",
    "if(num > 0):\n",
    "    for i in range(1,num+1):\n",
    "        compute += i/(i+1)\n",
    "        \n",
    "    print(round(compute,2))\n",
    "else:\n",
    "    print(\"please enter number greater than zero\")"
   ]
  },
  {
   "cell_type": "markdown",
   "metadata": {},
   "source": [
    "# Q#10\n",
    "Write a program to compute:\n",
    "f(n)=f(n-1)+100 when n>0\n",
    "and f(0)=1\n",
    "with a given n input by console (n>0)."
   ]
  },
  {
   "cell_type": "code",
   "execution_count": 64,
   "metadata": {},
   "outputs": [
    {
     "name": "stdout",
     "output_type": "stream",
     "text": [
      "Enter a number greater then zero: 5\n",
      "500\n"
     ]
    }
   ],
   "source": [
    "number = int(input(\"Enter a number greater then zero: \"))\n",
    "sum = 0\n",
    "def compute_sum(n):\n",
    "    if n > 0:\n",
    "        return compute_sum(n-1) + 100\n",
    "    else:\n",
    "        return 0\n",
    "    \n",
    "if(number > 0):\n",
    "    print(compute_sum(number))\n",
    "else:\n",
    "    print(\"please enter number greater than zero\")"
   ]
  },
  {
   "cell_type": "markdown",
   "metadata": {},
   "source": [
    "# Q#11\n",
    "A website requires the users to input username and password to\n",
    "register. Write a program to check the validity of password input by\n",
    "users.\n",
    "Following are the criteria for checking the password:\n",
    "1. At least 1 letter between [a-z]\n",
    "2. At least 1 number between [0-9]\n",
    "1. At least 1 letter between [A-Z]\n",
    "3. At least 1 character from [$#@]\n",
    "4. Minimum length of transaction password: 6\n",
    "5. Maximum length of transaction password: 12\n",
    "Your program should accept a sequence of comma separated passwords\n",
    "and will check them according to the above criteria. Passwords that\n",
    "match the criteria are to be printed, each separated by a comma."
   ]
  },
  {
   "cell_type": "code",
   "execution_count": 76,
   "metadata": {},
   "outputs": [
    {
     "name": "stdout",
     "output_type": "stream",
     "text": [
      "please enter sequence of comma separated passwords: ABd1234@1,a F1#,2w3E*,2We3345\n",
      "ABd1234@1\n"
     ]
    }
   ],
   "source": [
    "password = input(\"please enter sequence of comma separated passwords: \")\n",
    "password_list = password.split(',')\n",
    "\n",
    "flag = 0\n",
    "valid_password_list = []\n",
    "\n",
    "for user_password in password_list:\n",
    "    while True:\n",
    "        if len(user_password) < 6 or len(user_password) > 12:\n",
    "            flag = -1\n",
    "            break\n",
    "        elif  not re.search(\"[a-z]\",user_password):\n",
    "            flag = -1\n",
    "            break\n",
    "        elif  not re.search(\"[0-9]\",user_password):\n",
    "            flag = -1\n",
    "            break\n",
    "        elif  not re.search(\"[A-Z]\",user_password):\n",
    "            flag = -1\n",
    "            break\n",
    "        elif  not re.search(\"[$#@]\",user_password):\n",
    "            flag = -1\n",
    "            break\n",
    "        else:\n",
    "            valid_password_list.append(user_password)\n",
    "            break\n",
    "\n",
    "valid_password = ','.join(valid_password_list)\n",
    "print(valid_password)"
   ]
  },
  {
   "cell_type": "markdown",
   "metadata": {},
   "source": [
    "# Q#12\n",
    "You are required to write a program to sort the (name, age, height)\n",
    "tuples by ascending order where name is string, age and height are\n",
    "numbers. The tuples are input by console. The sort criteria is:\n",
    "1: Sort based on name;\n",
    "2: Then sort based on age;\n",
    "3: Then sort by score.\n",
    "The priority is that name > age > score."
   ]
  },
  {
   "cell_type": "code",
   "execution_count": 1,
   "metadata": {},
   "outputs": [],
   "source": [
    "from operator import itemgetter"
   ]
  },
  {
   "cell_type": "code",
   "execution_count": 29,
   "metadata": {},
   "outputs": [
    {
     "name": "stdout",
     "output_type": "stream",
     "text": [
      "Enter person information (name,age,height): Tom,19,80\n",
      "Enter person information (name,age,height): John,20,90\n",
      "Enter person information (name,age,height): Jony,17,91\n",
      "Enter person information (name,age,height): \n",
      "[('John', '20', '90'), ('Jony', '17', '91'), ('Tom', '19', '80')]\n"
     ]
    }
   ],
   "source": [
    "person_info = []\n",
    "while True:\n",
    "    line = input(\"Enter person information (name,age,height): \")\n",
    "    \n",
    "    if not line:\n",
    "        break\n",
    "    person_info.append(tuple(line.split(',')))\n",
    "person_info = sorted(person_info, key=itemgetter(0,1,2))\n",
    "print(person_info)"
   ]
  },
  {
   "cell_type": "markdown",
   "metadata": {},
   "source": [
    "# Q#13\n",
    "Define a class with a generator which can iterate the numbers, which\n",
    "are divisible by 7, between a given range 0 and n."
   ]
  },
  {
   "cell_type": "code",
   "execution_count": 4,
   "metadata": {},
   "outputs": [
    {
     "name": "stdout",
     "output_type": "stream",
     "text": [
      "0\n",
      "7\n",
      "14\n",
      "21\n",
      "28\n",
      "35\n",
      "42\n",
      "49\n",
      "56\n",
      "63\n",
      "70\n",
      "77\n",
      "84\n",
      "91\n",
      "98\n"
     ]
    }
   ],
   "source": [
    "class iterator(object):\n",
    "    def __init__(self, n):\n",
    "        super(iterator, self).__init__()\n",
    "        self.n = n\n",
    "\n",
    "    def divBySeven(self):\n",
    "        for i in range(0, self.n):\n",
    "            if i % 7 == 0:\n",
    "                yield i\n",
    "\n",
    "for num in iterator(100).divBySeven():\n",
    "    print(num)"
   ]
  },
  {
   "cell_type": "markdown",
   "metadata": {},
   "source": [
    "# Q#14\n",
    "A robot moves in a plane starting from the original point (0,0). The\n",
    "robot can move toward UP, DOWN, LEFT and RIGHT with a given steps.\n",
    "The trace of robot movement is shown as the following:\n",
    "UP 5\n",
    "DOWN 3\n",
    "LEFT 3\n",
    "RIGHT 2\n",
    "¡\n",
    "The numbers after the direction are steps. Please write a program to\n",
    "compute the distance from current position after a sequence of\n",
    "movement and original point. If the distance is a float, then just\n",
    "print the nearest integer."
   ]
  },
  {
   "cell_type": "code",
   "execution_count": 8,
   "metadata": {},
   "outputs": [
    {
     "name": "stdout",
     "output_type": "stream",
     "text": [
      "Type in UP/DOWN/LEFT/RIGHT #step number: UP 3\n",
      "Type in UP/DOWN/LEFT/RIGHT #step number: DOWN 5\n",
      "Type in UP/DOWN/LEFT/RIGHT #step number: \n",
      "Distance: 2.0\n"
     ]
    }
   ],
   "source": [
    "import math\n",
    "\n",
    "x, y = 0, 0\n",
    "\n",
    "while True:\n",
    "    step = input(\"Type in UP/DOWN/LEFT/RIGHT #step number: \")\n",
    "\n",
    "    if step == \"\":\n",
    "        break\n",
    "\n",
    "    else:\n",
    "        step = step.split(\" \")\n",
    "\n",
    "        if step[0] == \"UP\":\n",
    "            y = y + int(step[1])\n",
    "        elif step[0] == \"DOWN\":\n",
    "            y = y - int(step[1])\n",
    "        elif step[0] == \"LEFT\":\n",
    "            x = x - int(step[1])\n",
    "        elif step[0] == \"RIGHT\":\n",
    "            x = x + int(step[1])\n",
    "\n",
    "c = math.sqrt(x**2 + y**2)\n",
    "\n",
    "print(\"Distance:\", c)"
   ]
  },
  {
   "cell_type": "markdown",
   "metadata": {},
   "source": [
    "# Q#15\n",
    "Write a program to compute the frequency of the words from the\n",
    "input. The output should output after sorting the key\n",
    "alphanumerically."
   ]
  },
  {
   "cell_type": "code",
   "execution_count": 37,
   "metadata": {},
   "outputs": [
    {
     "name": "stdout",
     "output_type": "stream",
     "text": [
      "Enter text: New to Python or choosing between Python 2 and Python 3? Read Python 2 or Python 3.\n",
      "New: 1\n",
      "to: 1\n",
      "Python: 5\n",
      "or: 2\n",
      "choosing: 1\n",
      "between: 1\n",
      "2: 2\n",
      "and: 1\n",
      "3?: 1\n",
      "Read: 1\n",
      "3.: 1\n"
     ]
    }
   ],
   "source": [
    "text6 = input(\"Enter text: \")\n",
    "text_list = text7.split(' ')\n",
    "word_freq = {}\n",
    "for i in text_list:\n",
    "    if i in word_freq:\n",
    "        word_freq[i] +=1\n",
    "    else:\n",
    "        word_freq[i] = 1\n",
    "for char,count in word_freq.items():\n",
    "    print(char + \": \" + str(count))"
   ]
  },
  {
   "cell_type": "code",
   "execution_count": null,
   "metadata": {},
   "outputs": [],
   "source": []
  }
 ],
 "metadata": {
  "kernelspec": {
   "display_name": "Python 3",
   "language": "python",
   "name": "python3"
  },
  "language_info": {
   "codemirror_mode": {
    "name": "ipython",
    "version": 3
   },
   "file_extension": ".py",
   "mimetype": "text/x-python",
   "name": "python",
   "nbconvert_exporter": "python",
   "pygments_lexer": "ipython3",
   "version": "3.7.3"
  }
 },
 "nbformat": 4,
 "nbformat_minor": 2
}
