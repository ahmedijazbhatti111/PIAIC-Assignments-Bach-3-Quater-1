{
 "cells": [
  {
   "cell_type": "markdown",
   "metadata": {},
   "source": [
    "# Q#1"
   ]
  },
  {
   "cell_type": "markdown",
   "metadata": {},
   "source": [
    "# Calculate Area of a Circle\n",
    "Write a Python program which accepts the radius of a circle from the user and compute the area.\n",
    "\n",
    "Program Console Sample Output 1:\n",
    "Input Radius: 0.5\n",
    "Area of Circle with radius 0.5 is 0.7853981634"
   ]
  },
  {
   "cell_type": "code",
   "execution_count": 1,
   "metadata": {},
   "outputs": [],
   "source": [
    "import math as m"
   ]
  },
  {
   "cell_type": "code",
   "execution_count": 2,
   "metadata": {},
   "outputs": [
    {
     "name": "stdout",
     "output_type": "stream",
     "text": [
      "Input Radius: 4\n",
      "Area of Circle with radius 4.0 is 50.26548245743669\n"
     ]
    }
   ],
   "source": [
    "radius = float(input(\"Input Radius: \"))\n",
    "area = radius * radius * m.pi\n",
    "print(\"Area of Circle with radius \" + str(radius)+ \" is \" + str(area))"
   ]
  },
  {
   "cell_type": "markdown",
   "metadata": {},
   "source": [
    "# Q#2\n",
    "# Check Number either positive, negative or zero\n",
    "Write a Python program to check if a number is positive, negative or zero"
   ]
  },
  {
   "cell_type": "code",
   "execution_count": 3,
   "metadata": {},
   "outputs": [
    {
     "name": "stdout",
     "output_type": "stream",
     "text": [
      "Enter Number: 5\n",
      "Positive Number Entered\n"
     ]
    }
   ],
   "source": [
    "try:\n",
    "    number = int(input(\"Enter Number: \"))\n",
    "    if number > 0:\n",
    "        print(\"Positive Number Entered\")\n",
    "    elif number < 0:\n",
    "        print(\"Negative Number Entered\")\n",
    "    else:\n",
    "        print(\"Zero Entered\")\n",
    "except:\n",
    "    print(\"Please enter the integer only\")\n",
    "\n",
    "    "
   ]
  },
  {
   "cell_type": "markdown",
   "metadata": {},
   "source": [
    "# Q#3\n",
    "# Divisibility Check of two numbers\n",
    "Write a Python program to check whether a number is completely divisible by another number. Accept two integer\n",
    "values form the user"
   ]
  },
  {
   "cell_type": "code",
   "execution_count": 4,
   "metadata": {},
   "outputs": [
    {
     "name": "stdout",
     "output_type": "stream",
     "text": [
      "Enter numerator: 5\n",
      "Enter denominator6\n",
      "Number 5 is not Completely divisible by 6\n"
     ]
    }
   ],
   "source": [
    "numirator = int(input(\"Enter numerator: \"))\n",
    "denominator = int(input(\"Enter denominator\"))\n",
    "\n",
    "if numirator % denominator == 0:\n",
    "    print(\"Number \" + str(numirator) + \" is Completely divisible by \" + str(denominator))\n",
    "else:\n",
    "    print(\"Number \" + str(numirator) + \" is not Completely divisible by \" + str(denominator))"
   ]
  },
  {
   "cell_type": "markdown",
   "metadata": {},
   "source": [
    "# Q#4\n",
    "# Days Calculator\n",
    "Write a Python program to calculate number of days between two dates"
   ]
  },
  {
   "cell_type": "code",
   "execution_count": 6,
   "metadata": {},
   "outputs": [
    {
     "name": "stdout",
     "output_type": "stream",
     "text": [
      "Enter a date in (dd/mm/yy) format: 12/02/2020\n",
      "Enter a date in (dd/mm/yy) format: 05/06/2019\n",
      "252\n"
     ]
    }
   ],
   "source": [
    "from datetime import date\n",
    "first_date = input(\"Enter a date in (dd/mm/yy) format: \")\n",
    "second_date = input(\"Enter a date in (dd/mm/yy) format: \")\n",
    "\n",
    "class Date:\n",
    "    def __init__(self, date):\n",
    "        self.day = int(date[0:2])\n",
    "        self.month = int(date[3:5])\n",
    "        self.year = int(date[6:])\n",
    "    def return_date(self):\n",
    "        return date(self.year, self.month, self.day)\n",
    "\n",
    "date1 = Date(first_date)\n",
    "date2 = Date(second_date)\n",
    "\n",
    "print((date1.return_date() - date2.return_date()).days)\n"
   ]
  },
  {
   "cell_type": "markdown",
   "metadata": {},
   "source": [
    "# Q#5\n",
    "# Calculate Volume of a sphere\n",
    "Write a Python program to get the volume of a sphere, please take the radius as input from user"
   ]
  },
  {
   "cell_type": "code",
   "execution_count": 8,
   "metadata": {},
   "outputs": [
    {
     "name": "stdout",
     "output_type": "stream",
     "text": [
      "Input Radius of Sphere: 1\n",
      "Volume of the Sphere with Radius1.0 is 4.19\n"
     ]
    }
   ],
   "source": [
    "radius = float(input(\"Input Radius of Sphere: \"))\n",
    "volume = 4 / 3 *radius * radius * radius * m.pi\n",
    "print(\"Volume of the Sphere with Radius\" + str(radius)+ \" is \" + str(round(volume,2)))"
   ]
  },
  {
   "cell_type": "markdown",
   "metadata": {},
   "source": [
    "# Q#6\n",
    "# Copy string n times\n",
    "Write a Python program to get a string which is n (non-negative integer) copies of a given string."
   ]
  },
  {
   "cell_type": "code",
   "execution_count": 9,
   "metadata": {},
   "outputs": [
    {
     "name": "stdout",
     "output_type": "stream",
     "text": [
      "Enter String: Hi\n",
      "How many copies of String you need: 4\n",
      "HiHiHiHi\n"
     ]
    }
   ],
   "source": [
    "string = input(\"Enter String: \")\n",
    "n = int(input(\"How many copies of String you need: \"))\n",
    "copy_str = \"\"\n",
    "for i in range(0,n):\n",
    "    copy_str = copy_str + string\n",
    "print(copy_str)"
   ]
  },
  {
   "cell_type": "markdown",
   "metadata": {},
   "source": [
    "# Q#7\n",
    "# Check if number is Even or Odd\n",
    "Write a Python program to find whether a given number (accept from the user) is even or odd, print out an\n",
    "appropriate message to the user"
   ]
  },
  {
   "cell_type": "code",
   "execution_count": 11,
   "metadata": {},
   "outputs": [
    {
     "name": "stdout",
     "output_type": "stream",
     "text": [
      "Enter Number: 5\n",
      "5 is Odd\n"
     ]
    }
   ],
   "source": [
    "try:\n",
    "    number = int(input(\"Enter Number: \"))\n",
    "    if number % 2 == 0:\n",
    "        print(str(number) + \" is Even\")\n",
    "    else:\n",
    "        print(str(number) + \" is Odd\")\n",
    "except:\n",
    "    print(\"Please enter the integer only\")"
   ]
  },
  {
   "cell_type": "markdown",
   "metadata": {},
   "source": [
    "# Q#8\n",
    "# Vowel Tester\n",
    "Write a Python program to test whether a passed letter is a vowel or not"
   ]
  },
  {
   "cell_type": "code",
   "execution_count": 12,
   "metadata": {},
   "outputs": [
    {
     "name": "stdout",
     "output_type": "stream",
     "text": [
      "Enter a Character: c\n",
      "Letter c is not vowel\n"
     ]
    }
   ],
   "source": [
    "alphabet = input(\"Enter a Character: \")\n",
    "if alphabet == 'A' or alphabet == 'a' or alphabet == 'E' or alphabet == 'e' or alphabet == 'I' or alphabet == 'i' or alphabet == 'O' or alphabet == 'o' or alphabet == 'U' or alphabet == 'u':\n",
    "        print(\"Letter \" + alphabet + \" is vowel\")\n",
    "else:\n",
    "    print(\"Letter \" + alphabet + \" is not vowel\")"
   ]
  },
  {
   "cell_type": "markdown",
   "metadata": {},
   "source": [
    "# Q#9\n",
    "# Triangle area\n",
    "Write a Python program that will accept the base and height of a triangle and compute the area"
   ]
  },
  {
   "cell_type": "code",
   "execution_count": 13,
   "metadata": {},
   "outputs": [
    {
     "name": "stdout",
     "output_type": "stream",
     "text": [
      "Enter magnitude of Triangle base: 4\n",
      "Enter magnitude of Triangle Height: 4\n",
      "Area of a Triangle with Height 4.0  and Base 4.0 is8.0\n"
     ]
    }
   ],
   "source": [
    "base = float(input(\"Enter magnitude of Triangle base: \"))\n",
    "height = float(input(\"Enter magnitude of Triangle Height: \"))\n",
    "area = 0.5 * base * height\n",
    "print(\"Area of a Triangle with Height \" + str(height) + \"  and Base \" + str(base) + \" is\" + str(area))"
   ]
  },
  {
   "cell_type": "code",
   "execution_count": 14,
   "metadata": {},
   "outputs": [
    {
     "name": "stdout",
     "output_type": "stream",
     "text": [
      "Enter the principle amount:10000\n",
      "Enter the rate:0.1\n",
      "Enter the time(years):5\n",
      "The simple interest is: 5000.0\n"
     ]
    }
   ],
   "source": [
    "principle=float(input(\"Enter the principle amount:\"))\n",
    "rate=float(input(\"Enter the rate:\"))\n",
    "\n",
    "time=float(input(\"Enter the time(years):\"))\n",
    "simple_interest=(principle*time*rate)\n",
    "print(\"The simple interest is:\",simple_interest)"
   ]
  },
  {
   "cell_type": "markdown",
   "metadata": {},
   "source": [
    "# Q#10\n",
    "# Calculate Interest\n",
    "Write a Python program to compute the future value of a specified principal amount, rate of interest, and a number\n",
    "of years"
   ]
  },
  {
   "cell_type": "code",
   "execution_count": 21,
   "metadata": {},
   "outputs": [
    {
     "name": "stdout",
     "output_type": "stream",
     "text": [
      "Please enter principal amount: 10000\n",
      "Please Enter Rate of interest in %: 0.1\n",
      "Enter number of years for investment: 5\n",
      "16105.1\n"
     ]
    }
   ],
   "source": [
    "amount = float(input(\"Please enter principal amount: \"))\n",
    "interest = float(input(\"Please Enter Rate of interest in %: \"))\n",
    "year = int(input(\"Enter number of years for investment: \"))\n",
    "\n",
    "total_amount_with_interest = amount\n",
    "for i in range(1,year+1):\n",
    "    total_amount_with_interest += total_amount_with_interest * interest\n",
    "\n",
    "print(total_amount_with_interest)"
   ]
  },
  {
   "cell_type": "markdown",
   "metadata": {},
   "source": [
    "# Q#11\n",
    "# Euclidean distance\n",
    "Write a Python program to compute the distance between the points (x1, y1) and (x2, y2)."
   ]
  },
  {
   "cell_type": "code",
   "execution_count": 22,
   "metadata": {},
   "outputs": [
    {
     "name": "stdout",
     "output_type": "stream",
     "text": [
      "Enter Co-ordinate for x1: 2\n",
      "Enter Co-ordinate for x2: 4\n",
      "Enter Co-ordinate for y1: 4\n",
      "Enter Co-ordinate for y2: 4\n",
      "Distance between points (2, 4) and (4, 4) is 2.0\n"
     ]
    }
   ],
   "source": [
    "x1 = int(input(\"Enter Co-ordinate for x1: \"))\n",
    "x2 = int(input(\"Enter Co-ordinate for x2: \"))\n",
    "y1 = int(input(\"Enter Co-ordinate for y1: \"))\n",
    "y2 = int(input(\"Enter Co-ordinate for y2: \"))\n",
    "\n",
    "distance = m.sqrt(m.pow((x2 - x1), 2) + m.pow((y2 - y1),2))\n",
    "print(\"Distance between points (\" + str(x1) + \", \" + str(x2) + \") and (\" + str(y1) + \", \" + str(y2) + \") is \" + str(distance))"
   ]
  },
  {
   "cell_type": "markdown",
   "metadata": {},
   "source": [
    "# Q#12\n",
    "# Feet to Centimeter Converter\n",
    "Write a Python program to convert height in feet to centimetres."
   ]
  },
  {
   "cell_type": "code",
   "execution_count": 23,
   "metadata": {},
   "outputs": [
    {
     "name": "stdout",
     "output_type": "stream",
     "text": [
      "Enter Height in Feet: 5\n",
      "There are 152.4 Cm in 5ft\n"
     ]
    }
   ],
   "source": [
    "height_in_feet = int(input(\"Enter Height in Feet: \"))\n",
    "print(\"There are \" + str(height_in_feet * 30.48) + \" Cm in \" + str(height_in_feet) + \"ft\")"
   ]
  },
  {
   "cell_type": "markdown",
   "metadata": {},
   "source": [
    "# Q#13\n",
    "# BMI Calculator\n",
    "Write a Python program to calculate body mass index"
   ]
  },
  {
   "cell_type": "code",
   "execution_count": 26,
   "metadata": {},
   "outputs": [
    {
     "name": "stdout",
     "output_type": "stream",
     "text": [
      "Enter Height in Cm: 180\n",
      "Enter Weight in Kg: 75\n",
      "Your BMI is 23.15\n"
     ]
    }
   ],
   "source": [
    "height_in_cm = int(input(\"Enter Height in Cm: \"))\n",
    "weight_in_kg = int(input(\"Enter Weight in Kg: \"))\n",
    "height_in_meter = height_in_cm * 0.01\n",
    "print(\"Your BMI is \" + str(round(weight_in_kg / m.pow(height_in_meter,2),2)))"
   ]
  },
  {
   "cell_type": "markdown",
   "metadata": {},
   "source": [
    "# Q#14\n",
    "# Sum of n Positive Integers\n",
    "Write a python program to sum of the first n positive integers"
   ]
  },
  {
   "cell_type": "code",
   "execution_count": 29,
   "metadata": {},
   "outputs": [
    {
     "name": "stdout",
     "output_type": "stream",
     "text": [
      "Enter a value of n: 5\n",
      "15\n"
     ]
    }
   ],
   "source": [
    "n = int(input(\"Enter a value of n: \"))\n",
    "sum = 0\n",
    "for i in range(1,n+1):\n",
    "    sum += i\n",
    "\n",
    "print(sum)"
   ]
  },
  {
   "cell_type": "markdown",
   "metadata": {},
   "source": [
    "# Q#15\n",
    "# Digits Sum of a Number\n",
    "Write a Python program to calculate the sum of the digits in an integer"
   ]
  },
  {
   "cell_type": "code",
   "execution_count": 46,
   "metadata": {},
   "outputs": [
    {
     "name": "stdout",
     "output_type": "stream",
     "text": [
      "Enter a Number: 12345\n",
      "Sum of 1 + 2 + 3 + 4 + 5 is 15\n"
     ]
    }
   ],
   "source": [
    "number = int(input(\"Enter a Number: \"))\n",
    "list_of_digit = []\n",
    "sum = 0\n",
    "for i in range(0,len(str(number))):\n",
    "    list_of_digit.append(int(number) % 10)\n",
    "    sum += int(number) % 10\n",
    "    number /= 10\n",
    "ans = \"Sum of \";\n",
    "for i in reversed(range(len(list_of_digit))):\n",
    "    ans += str(list_of_digit[i])\n",
    "    if i != 0:\n",
    "        ans += \" + \"\n",
    "ans += \" is \"\n",
    "print(ans + str(sum))"
   ]
  },
  {
   "cell_type": "markdown",
   "metadata": {},
   "source": [
    "# Q#16\n",
    "# Decimal to Binary Converter\n",
    "Write a Python program to convert an decimal integer to binary"
   ]
  },
  {
   "cell_type": "code",
   "execution_count": 51,
   "metadata": {},
   "outputs": [
    {
     "name": "stdout",
     "output_type": "stream",
     "text": [
      "Enter a decimal number: 15\n",
      "Binary Number representation is:  1111"
     ]
    }
   ],
   "source": [
    "decimal_number = int(input(\"Enter a decimal number: \"))\n",
    "print(\"Binary Number representation is: \", end = \" \")\n",
    "def DecimalToBinary(number):\n",
    "    if number > 1:\n",
    "        DecimalToBinary(number//2)\n",
    "    print(number % 2, end = '')\n",
    "    \n",
    "DecimalToBinary(decimal_number)"
   ]
  },
  {
   "cell_type": "markdown",
   "metadata": {},
   "source": [
    "# Q#17\n",
    "# Binary to Decimal Converter\n",
    "Write a program to convert binary number to Decimal number"
   ]
  },
  {
   "cell_type": "code",
   "execution_count": 57,
   "metadata": {},
   "outputs": [
    {
     "name": "stdout",
     "output_type": "stream",
     "text": [
      "Enter a binary number: 1111\n",
      "15\n"
     ]
    }
   ],
   "source": [
    "binary_number = int(input(\"Enter a binary number: \"))\n",
    "print(int(str(binary_number),2))"
   ]
  },
  {
   "cell_type": "markdown",
   "metadata": {},
   "source": [
    "# Q#18\n",
    "# Vowel and Consonants Counter\n",
    "Input a text and count the occurrences of vowels and consonant"
   ]
  },
  {
   "cell_type": "code",
   "execution_count": 59,
   "metadata": {},
   "outputs": [
    {
     "name": "stdout",
     "output_type": "stream",
     "text": [
      "Enter text: QuickBrownFoxJumpsovertheDog\n",
      "vowel: 9\n",
      "Consonants: 19\n"
     ]
    }
   ],
   "source": [
    "text = input(\"Enter text: \")\n",
    "vowel = 0\n",
    "consonant = 0\n",
    "for char in text:\n",
    "    if char == 'A' or char == 'a' or char == 'E' or char == 'e' or char == 'I' or char == 'i' or char == 'O' or char == 'o' or char == 'U' or char == 'u':\n",
    "        vowel += 1\n",
    "    else:\n",
    "        consonant += 1\n",
    "print(\"vowel: \" + str(vowel))\n",
    "print(\"Consonants: \" + str(consonant))"
   ]
  },
  {
   "cell_type": "markdown",
   "metadata": {},
   "source": [
    "# Q#19\n",
    "# Palindrome tester\n",
    "Write a program to check whether given input is palindrome or not"
   ]
  },
  {
   "cell_type": "code",
   "execution_count": 72,
   "metadata": {},
   "outputs": [
    {
     "name": "stdout",
     "output_type": "stream",
     "text": [
      "Enter text: abcdcba\n",
      "\n",
      "\n",
      "\n",
      "Text abcdcba is palindrome\n"
     ]
    }
   ],
   "source": [
    "text = input(\"Enter text: \")\n",
    "palindrome = True\n",
    "for i in range(0,len(text) // 2):\n",
    "    print()\n",
    "    if text[i] == text[len(text)-(i+1)]:\n",
    "        continue\n",
    "    else:\n",
    "        palindrome = False\n",
    "        break\n",
    "        \n",
    "if palindrome == True:\n",
    "    print(\"Text \" + text + \" is palindrome\")\n",
    "else:\n",
    "    print(\"Text \" + text + \" is not palindrome\")"
   ]
  },
  {
   "cell_type": "markdown",
   "metadata": {},
   "source": [
    "# Q#20\n",
    "# Count Alphabets, Numbers and Special Characters\n",
    "Write a Python program that accepts a string and calculate the number of digits and letters"
   ]
  },
  {
   "cell_type": "code",
   "execution_count": 82,
   "metadata": {},
   "outputs": [
    {
     "name": "stdout",
     "output_type": "stream",
     "text": [
      "Enter text: Python 3.2#kjl\n",
      "Alphabets:  9\n",
      "Numbers:  2\n",
      "Special Characters:  2\n",
      "Spaces 1\n"
     ]
    }
   ],
   "source": [
    "text = input(\"Enter text: \")\n",
    "alphabets = 0\n",
    "digit = 0\n",
    "special_character = 0\n",
    "space = 0\n",
    "for char in text:\n",
    "    if char.isalpha():\n",
    "        alphabets += 1\n",
    "    elif char.isdigit():\n",
    "        digit += 1\n",
    "    elif char.isspace():\n",
    "        space += 1\n",
    "    else:\n",
    "        special_character += 1\n",
    "        \n",
    "print(\"Alphabets: \",alphabets)\n",
    "print(\"Numbers: \", digit)\n",
    "print(\"Special Characters: \", special_character)\n",
    "print(\"Spaces\", space)\n"
   ]
  },
  {
   "cell_type": "markdown",
   "metadata": {},
   "source": [
    "# Q#21\n",
    "# Write a Python program to construct the following pattern"
   ]
  },
  {
   "cell_type": "code",
   "execution_count": 99,
   "metadata": {},
   "outputs": [
    {
     "name": "stdout",
     "output_type": "stream",
     "text": [
      "*\n",
      "**\n",
      "***\n",
      "****\n",
      "*****\n",
      "****\n",
      "***\n",
      "**\n",
      "*\n"
     ]
    }
   ],
   "source": [
    "for i in range(1,10):\n",
    "    if i < 6:\n",
    "        for j in range(1,i+1):\n",
    "            print('*', end = \"\")\n",
    "    else:\n",
    "        for j in range(i,10):\n",
    "            print('*', end = \"\")\n",
    "    print()\n",
    "    "
   ]
  },
  {
   "cell_type": "markdown",
   "metadata": {},
   "source": [
    "# Q#22\n",
    "# Write a Python program to construct the following pattern"
   ]
  },
  {
   "cell_type": "code",
   "execution_count": 100,
   "metadata": {},
   "outputs": [
    {
     "name": "stdout",
     "output_type": "stream",
     "text": [
      "1\n",
      "12\n",
      "123\n",
      "1234\n",
      "12345\n",
      "1234\n",
      "123\n",
      "12\n",
      "1\n"
     ]
    }
   ],
   "source": [
    "for i in range(1,10):\n",
    "    if i < 6:\n",
    "        for j in range(1,i+1):\n",
    "            print(j, end = \"\")\n",
    "    else:\n",
    "        for j in range(i,10):\n",
    "            print(j-i+1, end = \"\")\n",
    "    print()"
   ]
  },
  {
   "cell_type": "markdown",
   "metadata": {},
   "source": [
    "# Q#23\n",
    "# Write a Python program to construct the following pattern"
   ]
  },
  {
   "cell_type": "code",
   "execution_count": 104,
   "metadata": {},
   "outputs": [
    {
     "name": "stdout",
     "output_type": "stream",
     "text": [
      "1\n",
      "22\n",
      "333\n",
      "4444\n",
      "55555\n",
      "666666\n",
      "7777777\n",
      "88888888\n",
      "999999999\n"
     ]
    }
   ],
   "source": [
    "for i in range(1,10):\n",
    "    for j in range(1,i+1):\n",
    "        print(i, end = \"\")\n",
    "    print()"
   ]
  },
  {
   "cell_type": "code",
   "execution_count": null,
   "metadata": {},
   "outputs": [],
   "source": []
  }
 ],
 "metadata": {
  "kernelspec": {
   "display_name": "Python 3",
   "language": "python",
   "name": "python3"
  },
  "language_info": {
   "codemirror_mode": {
    "name": "ipython",
    "version": 3
   },
   "file_extension": ".py",
   "mimetype": "text/x-python",
   "name": "python",
   "nbconvert_exporter": "python",
   "pygments_lexer": "ipython3",
   "version": "3.7.3"
  }
 },
 "nbformat": 4,
 "nbformat_minor": 2
}
